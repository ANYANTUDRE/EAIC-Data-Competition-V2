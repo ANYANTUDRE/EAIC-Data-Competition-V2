{
 "cells": [
  {
   "cell_type": "code",
   "execution_count": 1,
   "id": "4e62b55a",
   "metadata": {
    "_cell_guid": "b1076dfc-b9ad-4769-8c92-a6c4dae69d19",
    "_uuid": "8f2839f25d086af736a60e9eeb907d3b93b6e0e5",
    "execution": {
     "iopub.execute_input": "2024-02-07T06:09:46.144829Z",
     "iopub.status.busy": "2024-02-07T06:09:46.144396Z",
     "iopub.status.idle": "2024-02-07T06:09:49.766945Z",
     "shell.execute_reply": "2024-02-07T06:09:49.765998Z"
    },
    "papermill": {
     "duration": 3.62917,
     "end_time": "2024-02-07T06:09:49.769476",
     "exception": false,
     "start_time": "2024-02-07T06:09:46.140306",
     "status": "completed"
    },
    "tags": []
   },
   "outputs": [],
   "source": [
    "# rf_gp_minimize.py\n",
    "import numpy as np\n",
    "import pandas as pd\n",
    "import xgboost as xgb\n",
    "\n",
    "from functools import partial\n",
    "\n",
    "from sklearn import metrics\n",
    "from sklearn import model_selection\n",
    "\n",
    "\n",
    "from hyperopt import hp, fmin, tpe, Trials\n",
    "from hyperopt.pyll.base import scope"
   ]
  },
  {
   "cell_type": "code",
   "execution_count": 2,
   "id": "15a2043f",
   "metadata": {
    "execution": {
     "iopub.execute_input": "2024-02-07T06:09:49.775906Z",
     "iopub.status.busy": "2024-02-07T06:09:49.774846Z",
     "iopub.status.idle": "2024-02-07T06:09:49.782661Z",
     "shell.execute_reply": "2024-02-07T06:09:49.781744Z"
    },
    "papermill": {
     "duration": 0.01298,
     "end_time": "2024-02-07T06:09:49.784759",
     "exception": false,
     "start_time": "2024-02-07T06:09:49.771779",
     "status": "completed"
    },
    "tags": []
   },
   "outputs": [],
   "source": [
    "def optimize(params, x, y):\n",
    "    # initialize model with current parameters\n",
    "    model = xgb.XGBClassifier(**params)\n",
    "    # initialize stratified k-fold\n",
    "    kf = model_selection.StratifiedKFold(n_splits=10)\n",
    "    # initialize accuracy list\n",
    "    accuracies = []\n",
    "    # loop over all folds\n",
    "    for idx in kf.split(X=x, y=y):\n",
    "        train_idx, test_idx = idx[0], idx[1]\n",
    "        xtrain = x[train_idx]\n",
    "        ytrain = y[train_idx]\n",
    "        xtest  = x[test_idx]\n",
    "        ytest  = y[test_idx]\n",
    "        # fit model for current fold\n",
    "        model.fit(xtrain, ytrain)\n",
    "        #create predictions\n",
    "        preds = model.predict(xtest)\n",
    "        # calculate and append accuracy\n",
    "        fold_accuracy = metrics.accuracy_score(ytest, preds)\n",
    "        accuracies.append(fold_accuracy)\n",
    "\n",
    "    # return negative accuracy\n",
    "    return -1 * np.mean(accuracies)"
   ]
  },
  {
   "cell_type": "code",
   "execution_count": 3,
   "id": "a716a053",
   "metadata": {
    "execution": {
     "iopub.execute_input": "2024-02-07T06:09:49.789858Z",
     "iopub.status.busy": "2024-02-07T06:09:49.789555Z",
     "iopub.status.idle": "2024-02-07T06:35:48.459209Z",
     "shell.execute_reply": "2024-02-07T06:35:48.458231Z"
    },
    "papermill": {
     "duration": 1558.676248,
     "end_time": "2024-02-07T06:35:48.462969",
     "exception": false,
     "start_time": "2024-02-07T06:09:49.786721",
     "status": "completed"
    },
    "tags": []
   },
   "outputs": [
    {
     "name": "stdout",
     "output_type": "stream",
     "text": [
      "  0%|          | 0/30 [07:53<?, ?trial/s, best loss=?]\n"
     ]
    },
    {
     "name": "stderr",
     "output_type": "stream",
     "text": [
      "\n",
      "KeyboardInterrupt\n",
      "\n"
     ]
    }
   ],
   "source": [
    "# read the training data\n",
    "df = pd.read_csv(\"../input/train_10folds.csv\")\n",
    "# here we have training features\n",
    "X = df.drop([\"target\", \"kfold\"], axis=1).values\n",
    "# and the targets\n",
    "y = df.target.values\n",
    "\n",
    "# define a parameter space\n",
    "param_space = { \"eta\": hp.uniform(\"eta\", 0.01, 1),\n",
    "                \"gamma\": hp.uniform(\"gamma\", 0, 1),\n",
    "                \"max_depth\": scope.int(hp.quniform(\"max_depth\", 3, 25, 1)),\n",
    "                \"min_child_weight\":  scope.int(hp.quniform(\"min_child_weight\", 1, 10, 1)),\n",
    "                \"subsample\": hp.uniform(\"subsample\", 0.5, 1),\n",
    "                \"colsample_bytree\": hp.uniform(\"colsample_bytree\", 0.5, 1),\n",
    "                \"lambda\": hp.uniform(\"lambda\", 0, 1),\n",
    "                \"alpha\": hp.uniform(\"alpha\", 0, 1),\n",
    "                \"booster\": hp.choice(\"booster\", [\"gbtree\", \"gblinear\", \"dart\"])\n",
    "                }\n",
    "\n",
    "\n",
    "# partial function\n",
    "optimization_function = partial(optimize, x=X, y=y)\n",
    "\n",
    "# initialize trials to keep logging information\n",
    "trials = Trials()\n",
    "\n",
    "# run hyperopt\n",
    "hopt = fmin(fn=optimization_function,\n",
    "            space=param_space,\n",
    "            algo=tpe.suggest,\n",
    "            max_evals=30,\n",
    "            trials=trials\n",
    "            )\n",
    "print(hopt)"
   ]
  },
  {
   "cell_type": "code",
   "execution_count": null,
   "id": "1bc71a07",
   "metadata": {},
   "outputs": [],
   "source": []
  }
 ],
 "metadata": {
  "kaggle": {
   "accelerator": "gpu",
   "dataSources": [
    {
     "datasetId": 4411397,
     "sourceId": 7577702,
     "sourceType": "datasetVersion"
    }
   ],
   "dockerImageVersionId": 30648,
   "isGpuEnabled": true,
   "isInternetEnabled": true,
   "language": "python",
   "sourceType": "notebook"
  },
  "kernelspec": {
   "display_name": "Python 3",
   "language": "python",
   "name": "python3"
  },
  "language_info": {
   "codemirror_mode": {
    "name": "ipython",
    "version": 3
   },
   "file_extension": ".py",
   "mimetype": "text/x-python",
   "name": "python",
   "nbconvert_exporter": "python",
   "pygments_lexer": "ipython3",
   "version": "3.10.5"
  },
  "papermill": {
   "default_parameters": {},
   "duration": 1565.786408,
   "end_time": "2024-02-07T06:35:49.013387",
   "environment_variables": {},
   "exception": null,
   "input_path": "__notebook__.ipynb",
   "output_path": "__notebook__.ipynb",
   "parameters": {},
   "start_time": "2024-02-07T06:09:43.226979",
   "version": "2.5.0"
  }
 },
 "nbformat": 4,
 "nbformat_minor": 5
}
